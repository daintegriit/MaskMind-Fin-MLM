{
 "cells": [
  {
   "cell_type": "code",
   "execution_count": 2,
   "metadata": {},
   "outputs": [
    {
     "name": "stdout",
     "output_type": "stream",
     "text": [
      "🔍 Looking for file at: C:\\Users\\Darryl Carpenter\\Coding\\VScodeProjects\\DomainLLMChatbot\\data\\domain_corpus\\sec_filings\\Apple_10-K_2023.txt\n",
      "✅ Loaded 5,704 characters\n",
      "📦 Total chunks: 12\n"
     ]
    },
    {
     "name": "stderr",
     "output_type": "stream",
     "text": [
      "Map: 100%|██████████| 12/12 [00:00<00:00, 139.85 examples/s]\n",
      "Saving the dataset (1/1 shards): 100%|██████████| 12/12 [00:00<00:00, 660.31 examples/s]"
     ]
    },
    {
     "name": "stdout",
     "output_type": "stream",
     "text": [
      "✅ Tokenized dataset saved!\n"
     ]
    },
    {
     "name": "stderr",
     "output_type": "stream",
     "text": [
      "\n"
     ]
    }
   ],
   "source": [
    "from pathlib import Path\n",
    "from datasets import load_dataset, Dataset\n",
    "from transformers import AutoTokenizer\n",
    "from transformers import DataCollatorForLanguageModeling\n",
    "\n",
    "\n",
    "# === Config ===\n",
    "file_path = Path(\"../data/domain_corpus/sec_filings/Apple_10-K_2023.txt\").resolve()\n",
    "model_checkpoint = \"bert-base-uncased\"  # or try \"distilbert-base-uncased\"\n",
    "\n",
    "print(f\"🔍 Looking for file at: {file_path}\")\n",
    "\n",
    "# === Load and read text ===\n",
    "with open(file_path, \"r\", encoding=\"utf-8\") as f:\n",
    "    raw_text = f.read()\n",
    "\n",
    "print(f\"✅ Loaded {len(raw_text):,} characters\")\n",
    "\n",
    "# === Split into chunks ===\n",
    "chunk_size = 512\n",
    "chunks = [raw_text[i:i+chunk_size] for i in range(0, len(raw_text), chunk_size)]\n",
    "\n",
    "print(f\"📦 Total chunks: {len(chunks)}\")\n",
    "\n",
    "# === Wrap chunks in dicts ===\n",
    "data = [{\"text\": chunk} for chunk in chunks]\n",
    "\n",
    "# === Convert to HuggingFace dataset ===\n",
    "dataset = Dataset.from_list(data)\n",
    "\n",
    "# === Load tokenizer ===\n",
    "tokenizer = AutoTokenizer.from_pretrained(model_checkpoint)\n",
    "\n",
    "# === Tokenize chunks ===\n",
    "def tokenize(example):\n",
    "    # Tokenize the input text and automatically create masked labels\n",
    "    return tokenizer(\n",
    "        example[\"text\"],\n",
    "        truncation=True,\n",
    "        padding=\"max_length\",\n",
    "        max_length=512,\n",
    "        return_special_tokens_mask=True,\n",
    "    )\n",
    "\n",
    "\n",
    "data_collator = DataCollatorForLanguageModeling(\n",
    "    tokenizer=tokenizer,\n",
    "    mlm=True,\n",
    "    mlm_probability=0.15,\n",
    ")\n",
    "\n",
    "tokenized_dataset = dataset.map(tokenize, batched=True)\n",
    "\n",
    "tokenized_dataset.set_format(\"torch\")\n",
    "tokenized_dataset.save_to_disk(\"data/tokenized/sec_apple_10k\")\n",
    "print(\"✅ Tokenized dataset saved!\")\n"
   ]
  },
  {
   "cell_type": "code",
   "execution_count": 6,
   "metadata": {},
   "outputs": [
    {
     "name": "stderr",
     "output_type": "stream",
     "text": [
      "Device set to use cpu\n"
     ]
    },
    {
     "name": "stdout",
     "output_type": "stream",
     "text": [
      "\n",
      "🔍 Input: Apple Inc. reported a net income of [MASK] million dollars in Q4.\n",
      "👉 apple inc. reported a net income of 10 million dollars in q4. (score: 0.0303)\n",
      "👉 apple inc. reported a net income of 100 million dollars in q4. (score: 0.0292)\n",
      "👉 apple inc. reported a net income of one million dollars in q4. (score: 0.0279)\n",
      "👉 apple inc. reported a net income of 1 million dollars in q4. (score: 0.0224)\n",
      "👉 apple inc. reported a net income of 3 million dollars in q4. (score: 0.0181)\n",
      "\n",
      "🔍 Input: The company expects [MASK] growth in the next fiscal year.\n",
      "👉 the company expects significant growth in the next fiscal year. (score: 0.1884)\n",
      "👉 the company expects further growth in the next fiscal year. (score: 0.1548)\n",
      "👉 the company expects continued growth in the next fiscal year. (score: 0.1155)\n",
      "👉 the company expects rapid growth in the next fiscal year. (score: 0.0747)\n",
      "👉 the company expects additional growth in the next fiscal year. (score: 0.0424)\n",
      "\n",
      "🔍 Input: Operating expenses were reduced by [MASK] percent compared to last quarter.\n",
      "👉 operating expenses were reduced by 20 percent compared to last quarter. (score: 0.0512)\n",
      "👉 operating expenses were reduced by 10 percent compared to last quarter. (score: 0.0403)\n",
      "👉 operating expenses were reduced by 30 percent compared to last quarter. (score: 0.0340)\n",
      "👉 operating expenses were reduced by 15 percent compared to last quarter. (score: 0.0302)\n",
      "👉 operating expenses were reduced by 25 percent compared to last quarter. (score: 0.0299)\n"
     ]
    }
   ],
   "source": [
    "from transformers import pipeline, AutoTokenizer, AutoModelForMaskedLM\n",
    "\n",
    "# === Load Fine-tuned Model ===\n",
    "model_path = \"../models/finetuned_model\"\n",
    "\n",
    "\n",
    "tokenizer = AutoTokenizer.from_pretrained(model_path, local_files_only=True)\n",
    "model = AutoModelForMaskedLM.from_pretrained(model_path, local_files_only=True)\n",
    "\n",
    "# === Load Pipeline ===\n",
    "nlp_fill = pipeline(\"fill-mask\", model=model, tokenizer=tokenizer)\n",
    "\n",
    "# === Test Sentences ===\n",
    "sentences = [\n",
    "    \"Apple Inc. reported a net income of [MASK] million dollars in Q4.\",\n",
    "    \"The company expects [MASK] growth in the next fiscal year.\",\n",
    "    \"Operating expenses were reduced by [MASK] percent compared to last quarter.\",\n",
    "]\n",
    "\n",
    "# === Run Prediction ===\n",
    "for sentence in sentences:\n",
    "    print(f\"\\n🔍 Input: {sentence}\")\n",
    "    results = nlp_fill(sentence)\n",
    "    for res in results:\n",
    "        print(f\"👉 {res['sequence']} (score: {res['score']:.4f})\")\n"
   ]
  },
  {
   "cell_type": "code",
   "execution_count": 7,
   "metadata": {},
   "outputs": [
    {
     "name": "stdout",
     "output_type": "stream",
     "text": [
      "\n",
      "🔍 Input: Revenue increased by [MASK] percent compared to last year.\n",
      "👉 revenue increased by 20 percent compared to last year. (score: 0.0429)\n",
      "👉 revenue increased by 10 percent compared to last year. (score: 0.0328)\n",
      "👉 revenue increased by 25 percent compared to last year. (score: 0.0301)\n",
      "👉 revenue increased by 30 percent compared to last year. (score: 0.0283)\n",
      "👉 revenue increased by 15 percent compared to last year. (score: 0.0266)\n",
      "\n",
      "🔍 Input: The company reported a [MASK] net income in Q3.\n",
      "👉 the company reported a low net income in q3. (score: 0.1501)\n",
      "👉 the company reported a stable net income in q3. (score: 0.0987)\n",
      "👉 the company reported a net net income in q3. (score: 0.0526)\n",
      "👉 the company reported a high net income in q3. (score: 0.0382)\n",
      "👉 the company reported a quarterly net income in q3. (score: 0.0365)\n",
      "\n",
      "🔍 Input: Apple’s earnings per share were [MASK].\n",
      "👉 apple ’ s earnings per share were zero. (score: 0.0451)\n",
      "👉 apple ’ s earnings per share were low. (score: 0.0231)\n",
      "👉 apple ’ s earnings per share were undisclosed. (score: 0.0176)\n",
      "👉 apple ’ s earnings per share were high. (score: 0.0169)\n",
      "👉 apple ’ s earnings per share were average. (score: 0.0163)\n",
      "\n",
      "🔍 Input: Cash flows from operations totaled [MASK] billion dollars.\n",
      "👉 cash flows from operations totaled 10 billion dollars. (score: 0.0329)\n",
      "👉 cash flows from operations totaled two billion dollars. (score: 0.0287)\n",
      "👉 cash flows from operations totaled three billion dollars. (score: 0.0256)\n",
      "👉 cash flows from operations totaled several billion dollars. (score: 0.0250)\n",
      "👉 cash flows from operations totaled 3 billion dollars. (score: 0.0242)\n",
      "\n",
      "🔍 Input: Total liabilities decreased by [MASK] percent.\n",
      "👉 total liabilities decreased by 20 percent. (score: 0.0487)\n",
      "👉 total liabilities decreased by 30 percent. (score: 0.0367)\n",
      "👉 total liabilities decreased by 10 percent. (score: 0.0358)\n",
      "👉 total liabilities decreased by 50 percent. (score: 0.0299)\n",
      "👉 total liabilities decreased by 15 percent. (score: 0.0288)\n"
     ]
    }
   ],
   "source": [
    "# === Batch Evaluation ===\n",
    "examples = [\n",
    "    \"Revenue increased by [MASK] percent compared to last year.\",\n",
    "    \"The company reported a [MASK] net income in Q3.\",\n",
    "    \"Apple’s earnings per share were [MASK].\",\n",
    "    \"Cash flows from operations totaled [MASK] billion dollars.\",\n",
    "    \"Total liabilities decreased by [MASK] percent.\",\n",
    "]\n",
    "\n",
    "for sentence in examples:\n",
    "    print(f\"\\n🔍 Input: {sentence}\")\n",
    "    results = nlp_fill(sentence)\n",
    "    for res in results:\n",
    "        print(f\"👉 {res['sequence']} (score: {res['score']:.4f})\")\n"
   ]
  },
  {
   "cell_type": "code",
   "execution_count": 8,
   "metadata": {},
   "outputs": [
    {
     "name": "stdout",
     "output_type": "stream",
     "text": [
      "🧠 cash flow was two billion dollars. (confidence: 0.1247)\n",
      "🧠 cash flow was a billion dollars. (confidence: 0.1210)\n",
      "🧠 cash flow was one billion dollars. (confidence: 0.1073)\n",
      "🧠 cash flow was three billion dollars. (confidence: 0.0859)\n",
      "🧠 cash flow was five billion dollars. (confidence: 0.0716)\n",
      "🧠 cash flow past 10 years was 10 billion dollars. (confidence: 0.0534)\n",
      "🧠 cash flow past 10 years was 1 billion dollars. (confidence: 0.0340)\n",
      "🧠 cash flow past 10 years was one billion dollars. (confidence: 0.0331)\n",
      "🧠 cash flow past 10 years was 2 billion dollars. (confidence: 0.0317)\n",
      "🧠 cash flow past 10 years was 3 billion dollars. (confidence: 0.0294)\n",
      "⚠️ Please include [MASK] in your prompt.\n",
      "⚠️ Please include [MASK] in your prompt.\n",
      "⚠️ Please include [MASK] in your prompt.\n",
      "⚠️ Please include [MASK] in your prompt.\n",
      "⚠️ Please include [MASK] in your prompt.\n",
      "⚠️ Please include [MASK] in your prompt.\n",
      "⚠️ Please include [MASK] in your prompt.\n",
      "⚠️ Please include [MASK] in your prompt.\n",
      "⚠️ Please include [MASK] in your prompt.\n",
      "⚠️ Please include [MASK] in your prompt.\n",
      "⚠️ Please include [MASK] in your prompt.\n"
     ]
    }
   ],
   "source": [
    "while True:\n",
    "    prompt = input(\"\\n💬 Ask your model (type 'exit' to quit): \")\n",
    "    if prompt.lower() == \"exit\":\n",
    "        break\n",
    "    if \"[MASK]\" not in prompt:\n",
    "        print(\"⚠️ Please include [MASK] in your prompt.\")\n",
    "        continue\n",
    "    results = nlp_fill(prompt)\n",
    "    for res in results:\n",
    "        print(f\"🧠 {res['sequence']} (confidence: {res['score']:.4f})\")\n"
   ]
  }
 ],
 "metadata": {
  "kernelspec": {
   "display_name": "domainllm",
   "language": "python",
   "name": "python3"
  },
  "language_info": {
   "codemirror_mode": {
    "name": "ipython",
    "version": 3
   },
   "file_extension": ".py",
   "mimetype": "text/x-python",
   "name": "python",
   "nbconvert_exporter": "python",
   "pygments_lexer": "ipython3",
   "version": "3.12.4"
  }
 },
 "nbformat": 4,
 "nbformat_minor": 2
}
